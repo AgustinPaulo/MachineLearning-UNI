{
 "cells": [
  {
   "cell_type": "markdown",
   "id": "4cb50ef9",
   "metadata": {},
   "source": [
    "## Regresión Lineal\n",
    "En esta actividad vamos a implementar nuestro propio algoritmo de regresión lineal para una única variable.\n",
    "\n",
    "Para ello vamos a desarrollar todas las funciones necesarias para encontrar un modelo lineal que se ajuste a un conjunto de datos de entrada.\n",
    "\n",
    "Comencemos importando todas las librerías que vamos a necesitar para el desarrollo"
   ]
  },
  {
   "cell_type": "code",
   "execution_count": 1,
   "id": "067b204d",
   "metadata": {},
   "outputs": [],
   "source": [
    "import numpy as np\n",
    "import math\n",
    "import matplotlib.pyplot as plt"
   ]
  },
  {
   "cell_type": "markdown",
   "id": "3da4e705",
   "metadata": {},
   "source": [
    "A continuación vamos a crear un dataset de ejemplo aleatorio que nos va a ser util para evaluar nuestro desarrollo"
   ]
  },
  {
   "cell_type": "code",
   "execution_count": 2,
   "id": "ca55df4c",
   "metadata": {},
   "outputs": [
    {
     "name": "stdout",
     "output_type": "stream",
     "text": [
      "El valor de x del primer ejemplo es 23.13961929800238 y el valor de y es 10.363555953983601\n",
      "La cantidad de ejemplos es 100\n"
     ]
    }
   ],
   "source": [
    "# 100 ejemplos\n",
    "m=100\n",
    "\n",
    "# esto es solo para la corrección \n",
    "np.random.seed(10)\n",
    "\n",
    "# generamos valores aleatorios para x\n",
    "x_train=30*np.random.rand(m,1)\n",
    "# generamos valores aleatorios para y que esten linealmente relacionados con x\n",
    "y_train=0.4*x_train+np.random.randn(m,1)\n",
    "\n",
    "# Lo transformamos en vectores (no matrices) para simplificar el uso\n",
    "x_train = x_train.flatten()\n",
    "y_train = y_train.flatten()\n",
    "\n",
    "print(f\"El valor de x del primer ejemplo es {x_train[0]} y el valor de y es {y_train[0]}\")\n",
    "print(f\"La cantidad de ejemplos es {x_train.shape[0]}\")"
   ]
  },
  {
   "cell_type": "markdown",
   "id": "522aa30d",
   "metadata": {},
   "source": [
    "### Grafico de dispersión\n",
    "En este caso creamos un dataset aleatorio con 100 ejemplos, con un único feature (valores de x) y un label (valores de y).\n",
    "\n",
    "Una vez que tenemos el dataset podemos graficar los datos."
   ]
  },
  {
   "cell_type": "code",
   "execution_count": 3,
   "id": "6f30805f",
   "metadata": {},
   "outputs": [
    {
     "data": {
      "image/png": "[encoded data removed]",
      "text/plain": [
       "<Figure size 800x500 with 1 Axes>"
      ]
     },
     "metadata": {},
     "output_type": "display_data"
    }
   ],
   "source": [
    "# Graficamos el dataset\n",
    "plt.figure(figsize=(8,5))\n",
    "plt.scatter(x_train,y_train)\n",
    "plt.title(\"Grafico de dispersión del dataset generado aleatoriamente\")\n",
    "plt.ylabel('y')\n",
    "plt.xlabel('x') \n",
    "plt.show()"
   ]
  },
  {
   "cell_type": "markdown",
   "id": "e0285cfd",
   "metadata": {},
   "source": [
    "### Funcion de costo\n",
    "El primer paso para desarrollar un algoritmo de regresión lineal es obtener la función de costo, es decir la función que nos va a decir que tan bueno es el modelo creado y nos permite comparar con otros modelos para poder elegir el mejor.\n",
    "\n",
    "En Regresion Lineal la función de costo suele ser una función cuadrática y está dada por la siguiente ecuación:\n",
    "\n",
    "${J(w,b)} = \\frac{1}{2m}\\sum \\limits _{i=1} ^{m} (f(x^{(i)}) - y^{(i)})^2$\n",
    "\n",
    "En donde, \n",
    "\n",
    "${f(x)} = w*x+b$\n",
    "\n",
    "**Actividad 1:**\n",
    "\n",
    "Desarrollar una función Python que calcule la función de costo cuadrática dado el dataset generado (valores de x e y) y un modelo dado (es decir, los parametros w y b son conocidos y pasados por parametro a la función).\n",
    "\n",
    "Nota: \n",
    "\n",
    "- x[i]: obtiene el valor del feature x del ejemplo i, es decir, $x^{(i)}$\n",
    "- y[i]: obtiene el valor del label y del ejemplo i, es decir, $y^{(i)}$\n",
    "- x**2: calcula el cuadrado de x. Esto será util para calcular $(f(x^{(i)}) - y^{(i)})^2$\n",
    "\n"
   ]
  },
  {
   "cell_type": "code",
   "execution_count": 5,
   "id": "19cc1dc3",
   "metadata": {},
   "outputs": [],
   "source": [
    "def calcular_costo(x, y, w, b): \n",
    "    \"\"\"\n",
    "    Calcula el costo (o error) que presenta un modelo dado en relación a los datos. \n",
    "    \n",
    "    Args:\n",
    "      x: arreglo con los valores del feature x para cada ejemplo\n",
    "      y: arreglo con los valores del label y para cada ejemplo\n",
    "      w,b: parametros del modelo conocido (numericos)\n",
    "    \n",
    "    Objetivo:\n",
    "        La función debe retornar el costo del modelo dado por parametro\n",
    "    \"\"\"\n",
    "    # Cantidad de ejemplos\n",
    "    m = x.shape[0] \n",
    "    \n",
    "    cost_sum = 0 \n",
    "    # 1. Por todos los ejemplos, calcular el costo de cada ejemplo:\n",
    "    for i in range(m): \n",
    "        \n",
    "        # 1.a. Calcular f(x)\n",
    "        f_x = w[i] * x[i] + b[i]#[AGREGUE EL CODIGO AQUI]#\n",
    "        \n",
    "        # 1.b. Calcular el costo cuadratico\n",
    "        cost = (f_x - y[i])^2#[AGREGUE EL CODIGO AQUI]# \n",
    "        \n",
    "        # 1.c. Sumar el costo al costo acumulado\n",
    "        cost_sum = cost_sum + cost#[AGREGUE EL CODIGO AQUI]# \n",
    "        \n",
    "    # 2. Calcular el costo promedio    \n",
    "    total_cost = 1/(2*m) * cost_sum#[AGREGUE EL CODIGO AQUI]#  \n",
    "\n",
    "    # 3. Retornar el costo total del modelo\n",
    "    return total_cost"
   ]
  },
  {
   "cell_type": "markdown",
   "id": "a0440e54",
   "metadata": {},
   "source": [
    "### Gradiente Descendiente\n",
    "\n",
    "Ahora que tenemos la función de costo podemos desarrollar el algoritmo de gradiente descendiente que la minimice.\n",
    "\n",
    "Con el algoritmo de gradiente descendiente vamos a ir iterativamente buscando modelos y calculando el costo de cada uno de ellos para quedarnos con el modelo que minimice la función de costo, es decir, que presente un error menor que el resto.\n",
    "\n",
    "Para ello, recordemos que el algoritmo de gradiente descendiente consiste en ir buscando valores de w y b y actualizándolos en cada iteración de la siguiente manera:\n",
    "\n",
    "$\\text{repetir hasta convergencia:}$\n",
    "\n",
    "&emsp;&emsp;&emsp;$w=w-\\alpha*\\frac{1}{m}\\sum \\limits _{i=1} ^{m}(f(x^{(i)})-y^{(i)})*x^{(i)}$\n",
    "\n",
    "&emsp;&emsp;&emsp;$b=b-\\alpha*\\frac{1}{m}\\sum \\limits _{i=1} ^{m}(f(x^{(i)})-y^{(i)})$\n",
    "\n",
    "en donde, \n",
    "\n",
    "${f(x)} = w*x+b$\n",
    "\n",
    "\n",
    "\n",
    "\n",
    "**Actividad 2:**\n",
    "\n",
    "Desarrollar una función que calcule las derivadas de la funcion de costo con respecto a w y a b, es decir, una función que devuelva los siguiente calculos:\n",
    "\n",
    "$\\text{Derivada de J(w,b) con respecto a w = }\\frac{1}{m}\\sum \\limits _{i=1} ^{m}(f(x^{(i)})-y^{(i)})*x^{(i)}$\n",
    "\n",
    "$\\text{Derivada de J(w,b) con respecto a b = }\\frac{1}{m}\\sum \\limits _{i=1} ^{m}(f(x^{(i)})-y^{(i)})$"
   ]
  },
  {
   "cell_type": "code",
   "execution_count": 6,
   "id": "250e3111",
   "metadata": {},
   "outputs": [],
   "source": [
    "def calcular_derivadas(x, y, w, b): \n",
    "    \"\"\"\n",
    "    Calcula las derivadas de la función de costo con respecto a w y b.\n",
    "    Args:\n",
    "      x: arreglo con los valores del feature x para cada ejemplo\n",
    "      y: arreglo con los valores del label y para cada ejemplo\n",
    "      w,b: parametros del modelo conocido (numericos) \n",
    "    Returns\n",
    "      dj_w: Derivada de la función de costo con respecto a w\n",
    "      dj_b: Derivada de la función de costo con respecto a b    \n",
    "     \"\"\"\n",
    "    \n",
    "    # Cantidad de ejemplos\n",
    "    m = x.shape[0]   \n",
    "    \n",
    "    dj_w = 0\n",
    "    dj_b = 0\n",
    "    \n",
    "    # 1. Por todos los ejemplos, calcular la derivada con respecto a w y a b\n",
    "    for i in range(m):\n",
    "        # 1.a. Calcular f(x)\n",
    "        f_x =  (w[i] * x[i]) + b[i]\n",
    "        \n",
    "        # 1.b. Calcular la derivada con respecto a w para el ejemplo i\n",
    "        dj_w_i = (f_x - y[i]) * x[i]\n",
    "        \n",
    "        # 1.c. Calcular la derivada con respecto a b para el ejemplo i\n",
    "        dj_b_i = f_x - y[i]\n",
    "        \n",
    "        # 1.d. Sumar la derivada acumulada con respecto a w\n",
    "        dj_w += dj_w + dj_w_i\n",
    "        \n",
    "        # 1.e. Sumar la derivada acumulada con respecto a b\n",
    "        dj_b += dj_b + dj_b_i\n",
    "    \n",
    "    # 2. Obtener el promedio de las derivadas\n",
    "    dj_w = 1/m * (dj_w)\n",
    "    \n",
    "    dj_b = 1/m * (dj_b)\n",
    "     \n",
    "    # 3. Retornar las derivadas\n",
    "    return dj_w, dj_b"
   ]
  },
  {
   "cell_type": "markdown",
   "id": "74e89397",
   "metadata": {},
   "source": [
    "Ahora que tenemos una función que calcula las derivadas, solo resta actualizar los valores de w y de b simultaneamente.\n",
    "\n",
    "\n",
    "\n",
    "$\\text{repetir hasta convergencia:}$\n",
    "\n",
    "&emsp;&emsp;&emsp;$w=w-\\alpha*\\frac{1}{m}\\sum \\limits _{i=1} ^{m}(f(x^{(i)})-y^{(i)})*x^{(i)}$\n",
    "\n",
    "&emsp;&emsp;&emsp;$b=b-\\alpha*\\frac{1}{m}\\sum \\limits _{i=1} ^{m}(f(x^{(i)})-y^{(i)})$\n",
    "\n",
    "en donde, \n",
    "\n",
    "${f(x)} = w*x+b$\n",
    "\n",
    "**Actividad 3:**\n",
    "\n",
    "Desarrollar una función que calcule el gradiente descendiete, es decir, que actualice los valores de w y de b utilizando la función desarrollada en la actividad anterior.\n",
    "\n"
   ]
  },
  {
   "cell_type": "code",
   "execution_count": 7,
   "id": "ad5e8ee7",
   "metadata": {},
   "outputs": [],
   "source": [
    "def gradiente_descendiente(x, y, max_iterations, alpha): \n",
    "    \"\"\"\n",
    "    Calcula el gradiente descendiente para encontrar los valores optimos de w y b.\n",
    "    \n",
    "    Args:\n",
    "      x: arreglo con los valores del feature x para cada ejemplo\n",
    "      y: arreglo con los valores del label y para cada ejemplo\n",
    "      max_iterations: maximo de iteraciones\n",
    "      alpha: learning rate\n",
    "      \n",
    "    Returns:\n",
    "      w: valor de w luego de converger\n",
    "      b: valor de b luego de converger\n",
    "      J_history (List): valores historicos del costo (para graficar)\n",
    "      wb_history (list): valores historicos de w y de b (para graficar)\n",
    "      \"\"\"\n",
    "        \n",
    "    # Estos arreglos sirven para ir guardando los valores del costo y de los parametros para graficarlos al final\n",
    "    J_hist = []\n",
    "    wb_hist = []\n",
    "    \n",
    "    w = 0\n",
    "    b = 0\n",
    "    \n",
    "    # Repetir hasta el máximo de iteraciones\n",
    "    for i in range(max_iterations):\n",
    "        \n",
    "        # Calcular las derivadas\n",
    "        dj_w, dj_b = calcular_derivadas(x, y, w, b)     \n",
    "\n",
    "        # Actualizar los valores de w y b             \n",
    "        w = w - alpha * dj_w \n",
    "        \n",
    "        b = b - alpha * dj_b\n",
    "        \n",
    "        costo = calcular_costo(x, y, w, b)\n",
    "        \n",
    "        # Guardar el costo y los parametros de la iteración\n",
    "        J_hist.append(costo)\n",
    "        wb_hist.append([w,b])\n",
    "            \n",
    "        # Imprime el costo cada 1000 iteraciones\n",
    "        if i% math.ceil(max_iterations/10) == 0:\n",
    "            print(f\"Iteración {i:4}: Cost {J_hist[-1]:0.2e} \", f\"w: {w: 0.3e}, b:{b: 0.5e}\")\n",
    " \n",
    "    # retorna w, b y los arreglos con los costos y parametros de cada iteración\n",
    "    return w, b, J_hist, wb_hist "
   ]
  },
  {
   "cell_type": "code",
   "execution_count": 8,
   "id": "a26db331",
   "metadata": {},
   "outputs": [
    {
     "ename": "TypeError",
     "evalue": "'int' object is not subscriptable",
     "output_type": "error",
     "traceback": [
      "\u001b[0;31m---------------------------------------------------------------------------\u001b[0m",
      "\u001b[0;31mTypeError\u001b[0m                                 Traceback (most recent call last)",
      "Cell \u001b[0;32mIn[8], line 6\u001b[0m\n\u001b[1;32m      3\u001b[0m alpha \u001b[38;5;241m=\u001b[39m \u001b[38;5;241m1.0e-4\u001b[39m\n\u001b[1;32m      5\u001b[0m \u001b[38;5;66;03m# run gradient descent\u001b[39;00m\n\u001b[0;32m----> 6\u001b[0m w_final, b_final, J_hist, wb_hist \u001b[38;5;241m=\u001b[39m gradiente_descendiente(x_train ,y_train, max_iterations, alpha)\n\u001b[1;32m      7\u001b[0m \u001b[38;5;28mprint\u001b[39m(\u001b[38;5;124mf\u001b[39m\u001b[38;5;124m\"\u001b[39m\u001b[38;5;124m(w,b) found by gradient descent: (\u001b[39m\u001b[38;5;132;01m{\u001b[39;00mw_final\u001b[38;5;132;01m:\u001b[39;00m\u001b[38;5;124m8.4f\u001b[39m\u001b[38;5;132;01m}\u001b[39;00m\u001b[38;5;124m,\u001b[39m\u001b[38;5;132;01m{\u001b[39;00mb_final\u001b[38;5;132;01m:\u001b[39;00m\u001b[38;5;124m8.4f\u001b[39m\u001b[38;5;132;01m}\u001b[39;00m\u001b[38;5;124m)\u001b[39m\u001b[38;5;124m\"\u001b[39m)\n",
      "Cell \u001b[0;32mIn[7], line 29\u001b[0m, in \u001b[0;36mgradiente_descendiente\u001b[0;34m(x, y, max_iterations, alpha)\u001b[0m\n\u001b[1;32m     25\u001b[0m \u001b[38;5;66;03m# Repetir hasta el máximo de iteraciones\u001b[39;00m\n\u001b[1;32m     26\u001b[0m \u001b[38;5;28;01mfor\u001b[39;00m i \u001b[38;5;129;01min\u001b[39;00m \u001b[38;5;28mrange\u001b[39m(max_iterations):\n\u001b[1;32m     27\u001b[0m     \n\u001b[1;32m     28\u001b[0m     \u001b[38;5;66;03m# Calcular las derivadas\u001b[39;00m\n\u001b[0;32m---> 29\u001b[0m     dj_w, dj_b \u001b[38;5;241m=\u001b[39m calcular_derivadas(x, y, w, b)     \n\u001b[1;32m     31\u001b[0m     \u001b[38;5;66;03m# Actualizar los valores de w y b             \u001b[39;00m\n\u001b[1;32m     32\u001b[0m     w \u001b[38;5;241m=\u001b[39m w \u001b[38;5;241m-\u001b[39m alpha \u001b[38;5;241m*\u001b[39m dj_w \n",
      "Cell \u001b[0;32mIn[6], line 22\u001b[0m, in \u001b[0;36mcalcular_derivadas\u001b[0;34m(x, y, w, b)\u001b[0m\n\u001b[1;32m     19\u001b[0m \u001b[38;5;66;03m# 1. Por todos los ejemplos, calcular la derivada con respecto a w y a b\u001b[39;00m\n\u001b[1;32m     20\u001b[0m \u001b[38;5;28;01mfor\u001b[39;00m i \u001b[38;5;129;01min\u001b[39;00m \u001b[38;5;28mrange\u001b[39m(m):\n\u001b[1;32m     21\u001b[0m     \u001b[38;5;66;03m# 1.a. Calcular f(x)\u001b[39;00m\n\u001b[0;32m---> 22\u001b[0m     f_x \u001b[38;5;241m=\u001b[39m  w[i] \u001b[38;5;241m*\u001b[39m x[i] \u001b[38;5;241m+\u001b[39m b[i]\n\u001b[1;32m     24\u001b[0m     \u001b[38;5;66;03m# 1.b. Calcular la derivada con respecto a w para el ejemplo i\u001b[39;00m\n\u001b[1;32m     25\u001b[0m     dj_w_i \u001b[38;5;241m=\u001b[39m (f_x \u001b[38;5;241m-\u001b[39m y[i]) \u001b[38;5;241m*\u001b[39m x[i]\n",
      "\u001b[0;31mTypeError\u001b[0m: 'int' object is not subscriptable"
     ]
    }
   ],
   "source": [
    "# initialize parameters\n",
    "max_iterations = 10000\n",
    "alpha = 1.0e-4\n",
    "\n",
    "# run gradient descent\n",
    "w_final, b_final, J_hist, wb_hist = gradiente_descendiente(x_train ,y_train, max_iterations, alpha)\n",
    "print(f\"(w,b) found by gradient descent: ({w_final:8.4f},{b_final:8.4f})\")"
   ]
  },
  {
   "cell_type": "markdown",
   "id": "7eaad452",
   "metadata": {},
   "source": [
    "Veamos el gráfico con historico del costo por iteración"
   ]
  },
  {
   "cell_type": "code",
   "execution_count": null,
   "id": "44fb8e7c",
   "metadata": {},
   "outputs": [],
   "source": [
    "plt.plot(J_hist[:500])\n",
    "\n",
    "plt.title(\"Costo por iteración\")\n",
    "plt.ylabel('Costo')\n",
    "plt.xlabel('#iteración') \n",
    "\n",
    "plt.show()"
   ]
  },
  {
   "cell_type": "markdown",
   "id": "c4442a25",
   "metadata": {},
   "source": [
    "Finalmente, observemos gráficamente como quedaría el modelo sobre los datos"
   ]
  },
  {
   "cell_type": "code",
   "execution_count": null,
   "id": "f599c2ff",
   "metadata": {},
   "outputs": [],
   "source": [
    "# Graficamos el dataset\n",
    "plt.figure(figsize=(8,5))\n",
    "plt.scatter(x_train,y_train)\n",
    "\n",
    "# Definimos el modelo con los parametros encontrados\n",
    "y_hat = w_final * x_train + b_final\n",
    "\n",
    "# Graficamos el modelo con una recta roja\n",
    "plt.plot(x_train, y_hat, color='r')\n",
    "plt.show()"
   ]
  },
  {
   "cell_type": "markdown",
   "id": "df77c95e",
   "metadata": {},
   "source": [
    "## Regresión Lineal con Scikit_learn\n",
    "\n",
    "Ahora que desarrollamos nuestras propias funciones de regresión lineal veamos como podemos implementarlo usando la librería scikit-learn.\n",
    "\n",
    "Comenzamos importando de la librería scikit-learn el paquete linear_model que contiene las funciones para hacer Regresion lineal"
   ]
  },
  {
   "cell_type": "code",
   "execution_count": null,
   "id": "2e42877b",
   "metadata": {},
   "outputs": [],
   "source": [
    "from sklearn import linear_model"
   ]
  },
  {
   "cell_type": "markdown",
   "id": "41e6966d",
   "metadata": {},
   "source": [
    "El dataset que creamos anteriormente lo habiamos aplanado usando el método .flatten() para obtener un arreglo en vez de una matriz, para simplificar el manejo de los datos. \n",
    "\n",
    "El modelo de regresion lineal de scikit-learn acepta solamente matrices para poder hacer regresion lineal para multiples features. \n",
    "\n",
    "En nuestro ejemplo solo tenemos un unico feature y por ello con un arreglo era suficiente, pero para usar la librería debemos transformarlo en una matriz nuevamente. Para ello usamos el método .reshape()."
   ]
  },
  {
   "cell_type": "code",
   "execution_count": null,
   "id": "1fbd8524",
   "metadata": {},
   "outputs": [],
   "source": [
    "x_train = x_train.reshape(-1, 1)\n",
    "x_train.shape"
   ]
  },
  {
   "cell_type": "markdown",
   "id": "37656dc0",
   "metadata": {},
   "source": [
    "Ahora creamos el modelo de regresion lineal usando el metodo LinearRegression()"
   ]
  },
  {
   "cell_type": "code",
   "execution_count": null,
   "id": "f42c63c3",
   "metadata": {},
   "outputs": [],
   "source": [
    "regr = linear_model.LinearRegression()"
   ]
  },
  {
   "cell_type": "markdown",
   "id": "97ae602e",
   "metadata": {},
   "source": [
    "Con el método .fit(x,y) lo que hacemos es ajustar el modelo a los datos."
   ]
  },
  {
   "cell_type": "code",
   "execution_count": null,
   "id": "100650df",
   "metadata": {},
   "outputs": [],
   "source": [
    "regr.fit(x_train, y_train)"
   ]
  },
  {
   "cell_type": "markdown",
   "id": "9a015cec",
   "metadata": {},
   "source": [
    "Ahora que tenemos el modelo podemos ver los parametros w y b"
   ]
  },
  {
   "cell_type": "code",
   "execution_count": null,
   "id": "eda30b1c",
   "metadata": {},
   "outputs": [],
   "source": [
    "# The coefficients\n",
    "print(\"Parametros: \\n\", regr.coef_)"
   ]
  },
  {
   "cell_type": "markdown",
   "id": "c61971f4",
   "metadata": {},
   "source": [
    "En este caso, solo w (b=0)\n",
    "\n",
    "Ahora, resta obtener los valores estimados: $\\hat{y}$ para poder graficar el modelo"
   ]
  },
  {
   "cell_type": "code",
   "execution_count": null,
   "id": "baabfc29",
   "metadata": {},
   "outputs": [],
   "source": [
    "y_pred = regr.predict(x_train)\n",
    "\n",
    "# Graficamos el modelo con una recta roja sobre el grafico de dispersión del dataset generado\n",
    "plt.scatter(x_train, y_train)\n",
    "plt.plot(x_train, y_pred,color='r')\n",
    "\n",
    "plt.show()"
   ]
  },
  {
   "cell_type": "markdown",
   "id": "23fc2d78",
   "metadata": {},
   "source": [
    "Vemos que con una pocas líneas de código usando la librería scikit-learn obtenemos un modelo muy similar al conseguido habiendo desarrollado todas las funciones necesarias para desarrollar regresion lineal.\n"
   ]
  },
  {
   "cell_type": "code",
   "execution_count": null,
   "id": "e7092c67",
   "metadata": {},
   "outputs": [],
   "source": []
  }
 ],
 "metadata": {
  "kernelspec": {
   "display_name": "Python 3 (ipykernel)",
   "language": "python",
   "name": "python3"
  },
  "language_info": {
   "codemirror_mode": {
    "name": "ipython",
    "version": 3
   },
   "file_extension": ".py",
   "mimetype": "text/x-python",
   "name": "python",
   "nbconvert_exporter": "python",
   "pygments_lexer": "ipython3",
   "version": "3.12.2"
  }
 },
 "nbformat": 4,
 "nbformat_minor": 5
}
