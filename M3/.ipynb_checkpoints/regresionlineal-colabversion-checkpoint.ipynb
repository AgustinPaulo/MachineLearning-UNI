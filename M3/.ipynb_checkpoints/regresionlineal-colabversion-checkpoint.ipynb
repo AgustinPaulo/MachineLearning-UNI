{
 "cells": [
  {
   "cell_type": "markdown",
   "id": "4cb50ef9",
   "metadata": {
    "id": "4cb50ef9"
   },
   "source": [
    "## Regresión Lineal\n",
    "En esta actividad vamos a implementar nuestro propio algoritmo de regresión lineal para una única variable.\n",
    "\n",
    "Para ello vamos a desarrollar todas las funciones necesarias para encontrar un modelo lineal que se ajuste a un conjunto de datos de entrada.\n",
    "\n",
    "Comencemos importando todas las librerías que vamos a necesitar para el desarrollo"
   ]
  },
  {
   "cell_type": "code",
   "execution_count": 1,
   "id": "067b204d",
   "metadata": {
    "id": "067b204d"
   },
   "outputs": [],
   "source": [
    "import numpy as np\n",
    "import math\n",
    "import matplotlib.pyplot as plt"
   ]
  },
  {
   "cell_type": "markdown",
   "id": "3da4e705",
   "metadata": {
    "id": "3da4e705"
   },
   "source": [
    "A continuación vamos a crear un dataset de ejemplo aleatorio que nos va a ser util para evaluar nuestro desarrollo"
   ]
  },
  {
   "cell_type": "code",
   "execution_count": 2,
   "id": "ca55df4c",
   "metadata": {
    "colab": {
     "base_uri": "https://localhost:8080/"
    },
    "id": "ca55df4c",
    "outputId": "6762e347-00e6-440c-819c-a5a535778f54"
   },
   "outputs": [
    {
     "name": "stdout",
     "output_type": "stream",
     "text": [
      "El valor de x del primer ejemplo es 23.13961929800238 y el valor de y es 10.363555953983601\n",
      "La cantidad de ejemplos es 100\n"
     ]
    }
   ],
   "source": [
    "# 100 ejemplos\n",
    "m=100\n",
    "\n",
    "# esto es solo para la corrección\n",
    "np.random.seed(10)\n",
    "\n",
    "# generamos valores aleatorios para x\n",
    "x_train=30*np.random.rand(m,1)\n",
    "# generamos valores aleatorios para y que esten linealmente relacionados con x\n",
    "y_train=0.4*x_train+np.random.randn(m,1)\n",
    "\n",
    "# Lo transformamos en vectores (no matrices) para simplificar el uso\n",
    "x_train = x_train.flatten()\n",
    "y_train = y_train.flatten()\n",
    "\n",
    "print(f\"El valor de x del primer ejemplo es {x_train[0]} y el valor de y es {y_train[0]}\")\n",
    "print(f\"La cantidad de ejemplos es {x_train.shape[0]}\")"
   ]
  },
  {
   "cell_type": "markdown",
   "id": "522aa30d",
   "metadata": {
    "id": "522aa30d"
   },
   "source": [
    "### Grafico de dispersión\n",
    "En este caso creamos un dataset aleatorio con 100 ejemplos, con un único feature (valores de x) y un label (valores de y).\n",
    "\n",
    "Una vez que tenemos el dataset podemos graficar los datos."
   ]
  },
  {
   "cell_type": "code",
   "execution_count": 3,
   "id": "6f30805f",
   "metadata": {
    "colab": {
     "base_uri": "https://localhost:8080/",
     "height": 488
    },
    "id": "6f30805f",
    "outputId": "37ea4dbc-2e8c-4e3d-c01c-a2b00b69818c"
   },
   "outputs": [
    {
     "data": {
      "image/png": "[encoded data removed]",
      "text/plain": [
       "<Figure size 800x500 with 1 Axes>"
      ]
     },
     "metadata": {},
     "output_type": "display_data"
    }
   ],
   "source": [
    "# Graficamos el dataset\n",
    "plt.figure(figsize=(8,5))\n",
    "plt.scatter(x_train,y_train)\n",
    "plt.title(\"Grafico de dispersión del dataset generado aleatoriamente\")\n",
    "plt.ylabel('y')\n",
    "plt.xlabel('x')\n",
    "plt.show()"
   ]
  },
  {
   "cell_type": "markdown",
   "id": "e0285cfd",
   "metadata": {
    "id": "e0285cfd"
   },
   "source": [
    "### Funcion de costo\n",
    "El primer paso para desarrollar un algoritmo de regresión lineal es obtener la función de costo, es decir la función que nos va a decir que tan bueno es el modelo creado y nos permite comparar con otros modelos para poder elegir el mejor.\n",
    "\n",
    "En Regresion Lineal la función de costo suele ser una función cuadrática y está dada por la siguiente ecuación:\n",
    "\n",
    "${J(w,b)} = \\frac{1}{2m}\\sum \\limits _{i=1} ^{m} (f(x^{(i)}) - y^{(i)})^2$\n",
    "\n",
    "En donde,\n",
    "\n",
    "${f(x)} = w*x+b$\n",
    "\n",
    "**Actividad 1:**\n",
    "\n",
    "Desarrollar una función Python que calcule la función de costo cuadrática dado el dataset generado (valores de x e y) y un modelo dado (es decir, los parametros w y b son conocidos y pasados por parametro a la función).\n",
    "\n",
    "Nota:\n",
    "\n",
    "- x[i]: obtiene el valor del feature x del ejemplo i, es decir, $x^{(i)}$\n",
    "- y[i]: obtiene el valor del label y del ejemplo i, es decir, $y^{(i)}$\n",
    "- x**2: calcula el cuadrado de x. Esto será util para calcular $(f(x^{(i)}) - y^{(i)})^2$\n",
    "\n"
   ]
  },
  {
   "cell_type": "code",
   "execution_count": 4,
   "id": "19cc1dc3",
   "metadata": {
    "id": "19cc1dc3"
   },
   "outputs": [],
   "source": [
    "def calcular_costo(x, y, w, b):\n",
    "    \"\"\"\n",
    "    Calcula el costo (o error) que presenta un modelo dado en relación a los datos.\n",
    "\n",
    "    Args:\n",
    "      x: arreglo con los valores del feature x para cada ejemplo\n",
    "      y: arreglo con los valores del label y para cada ejemplo\n",
    "      w,b: parametros del modelo conocido (numericos)\n",
    "\n",
    "    Objetivo:\n",
    "        La función debe retornar el costo del modelo dado por parametro\n",
    "    \"\"\"\n",
    "    # Cantidad de ejemplos\n",
    "    m = x.shape[0]\n",
    "\n",
    "    cost_sum = 0\n",
    "    # 1. Por todos los ejemplos, calcular el costo de cada ejemplo:\n",
    "    for i in range(m):\n",
    "\n",
    "        # 1.a. Calcular f(x)\n",
    "        f_x = (w * x[i]) + b\n",
    "\n",
    "        # 1.b. Calcular el costo cuadratico\n",
    "        cost = (f_x - y[i])**2\n",
    "\n",
    "        # 1.c. Sumar el costo al costo acumulado\n",
    "        cost_sum = cost_sum + cost\n",
    "\n",
    "    # 2. Calcular el costo promedio\n",
    "    total_cost = 1/(2*m) * cost_sum\n",
    "\n",
    "    # 3. Retornar el costo total del modelo\n",
    "    return total_cost"
   ]
  },
  {
   "cell_type": "markdown",
   "id": "a0440e54",
   "metadata": {
    "id": "a0440e54"
   },
   "source": [
    "### Gradiente Descendiente\n",
    "\n",
    "Ahora que tenemos la función de costo podemos desarrollar el algoritmo de gradiente descendiente que la minimice.\n",
    "\n",
    "Con el algoritmo de gradiente descendiente vamos a ir iterativamente buscando modelos y calculando el costo de cada uno de ellos para quedarnos con el modelo que minimice la función de costo, es decir, que presente un error menor que el resto.\n",
    "\n",
    "Para ello, recordemos que el algoritmo de gradiente descendiente consiste en ir buscando valores de w y b y actualizándolos en cada iteración de la siguiente manera:\n",
    "\n",
    "$\\text{repetir hasta convergencia:}$\n",
    "\n",
    "&emsp;&emsp;&emsp;$w=w-\\alpha*\\frac{1}{m}\\sum \\limits _{i=1} ^{m}(f(x^{(i)})-y^{(i)})*x^{(i)}$\n",
    "\n",
    "&emsp;&emsp;&emsp;$b=b-\\alpha*\\frac{1}{m}\\sum \\limits _{i=1} ^{m}(f(x^{(i)})-y^{(i)})$\n",
    "\n",
    "en donde,\n",
    "\n",
    "${f(x)} = w*x+b$\n",
    "\n",
    "\n",
    "\n",
    "\n",
    "**Actividad 2:**\n",
    "\n",
    "Desarrollar una función que calcule las derivadas de la funcion de costo con respecto a w y a b, es decir, una función que devuelva los siguiente calculos:\n",
    "\n",
    "$\\text{Derivada de J(w,b) con respecto a w = }\\frac{1}{m}\\sum \\limits _{i=1} ^{m}(f(x^{(i)})-y^{(i)})*x^{(i)}$\n",
    "\n",
    "$\\text{Derivada de J(w,b) con respecto a b = }\\frac{1}{m}\\sum \\limits _{i=1} ^{m}(f(x^{(i)})-y^{(i)})$"
   ]
  },
  {
   "cell_type": "code",
   "execution_count": 5,
   "id": "250e3111",
   "metadata": {
    "id": "250e3111"
   },
   "outputs": [],
   "source": [
    "def calcular_derivadas(x, y, w, b):\n",
    "    \"\"\"\n",
    "    Calcula las derivadas de la función de costo con respecto a w y b.\n",
    "    Args:\n",
    "      x: arreglo con los valores del feature x para cada ejemplo\n",
    "      y: arreglo con los valores del label y para cada ejemplo\n",
    "      w,b: parametros del modelo conocido (numericos)\n",
    "    Returns\n",
    "      dj_w: Derivada de la función de costo con respecto a w\n",
    "      dj_b: Derivada de la función de costo con respecto a b\n",
    "     \"\"\"\n",
    "\n",
    "    # Cantidad de ejemplos\n",
    "    m = x.shape[0]\n",
    "\n",
    "    dj_w = 0\n",
    "    dj_b = 0\n",
    "\n",
    "    # 1. Por todos los ejemplos, calcular la derivada con respecto a w y a b\n",
    "    for i in range(m):\n",
    "        # 1.a. Calcular f(x)\n",
    "        f_x =  (w * x[i]) + b\n",
    "\n",
    "        # 1.b. Calcular la derivada con respecto a w para el ejemplo i\n",
    "        dj_w_i = (f_x - y[i]) * x[i]\n",
    "\n",
    "        # 1.c. Calcular la derivada con respecto a b para el ejemplo i\n",
    "        dj_b_i = f_x - y[i]\n",
    "\n",
    "        # 1.d. Sumar la derivada acumulada con respecto a w\n",
    "        dj_w += dj_w_i\n",
    "\n",
    "        # 1.e. Sumar la derivada acumulada con respecto a b\n",
    "        dj_b += dj_b_i\n",
    "\n",
    "    # 2. Obtener el promedio de las derivadas\n",
    "    dj_w = 1/m * (dj_w)\n",
    "\n",
    "    dj_b = 1/m * (dj_b)\n",
    "\n",
    "    # 3. Retornar las derivadas\n",
    "    return dj_w, dj_b"
   ]
  },
  {
   "cell_type": "markdown",
   "id": "74e89397",
   "metadata": {
    "id": "74e89397"
   },
   "source": [
    "Ahora que tenemos una función que calcula las derivadas, solo resta actualizar los valores de w y de b simultaneamente.\n",
    "\n",
    "\n",
    "\n",
    "$\\text{repetir hasta convergencia:}$\n",
    "\n",
    "&emsp;&emsp;&emsp;$w=w-\\alpha*\\frac{1}{m}\\sum \\limits _{i=1} ^{m}(f(x^{(i)})-y^{(i)})*x^{(i)}$\n",
    "\n",
    "&emsp;&emsp;&emsp;$b=b-\\alpha*\\frac{1}{m}\\sum \\limits _{i=1} ^{m}(f(x^{(i)})-y^{(i)})$\n",
    "\n",
    "en donde,\n",
    "\n",
    "${f(x)} = w*x+b$\n",
    "\n",
    "**Actividad 3:**\n",
    "\n",
    "Desarrollar una función que calcule el gradiente descendiete, es decir, que actualice los valores de w y de b utilizando la función desarrollada en la actividad anterior.\n",
    "\n"
   ]
  },
  {
   "cell_type": "code",
   "execution_count": 6,
   "id": "ad5e8ee7",
   "metadata": {
    "id": "ad5e8ee7"
   },
   "outputs": [],
   "source": [
    "def gradiente_descendiente(x, y, max_iterations, alpha):\n",
    "    \"\"\"\n",
    "    Calcula el gradiente descendiente para encontrar los valores optimos de w y b.\n",
    "\n",
    "    Args:\n",
    "      x: arreglo con los valores del feature x para cada ejemplo\n",
    "      y: arreglo con los valores del label y para cada ejemplo\n",
    "      max_iterations: maximo de iteraciones\n",
    "      alpha: learning rate\n",
    "\n",
    "    Returns:\n",
    "      w: valor de w luego de converger\n",
    "      b: valor de b luego de converger\n",
    "      J_history (List): valores historicos del costo (para graficar)\n",
    "      wb_history (list): valores historicos de w y de b (para graficar)\n",
    "      \"\"\"\n",
    "\n",
    "    # Estos arreglos sirven para ir guardando los valores del costo y de los parametros para graficarlos al final\n",
    "    J_hist = []\n",
    "    wb_hist = []\n",
    "\n",
    "    w = 0\n",
    "    b = 0\n",
    "\n",
    "    # Repetir hasta el máximo de iteraciones\n",
    "    for i in range(max_iterations):\n",
    "\n",
    "        # Calcular las derivadas\n",
    "        dj_w, dj_b = calcular_derivadas(x, y, w, b)\n",
    "\n",
    "        # Actualizar los valores de w y b\n",
    "        w = w - (alpha * dj_w )\n",
    "\n",
    "        b = b - (alpha * dj_b)\n",
    "\n",
    "        costo = calcular_costo(x, y, w, b)\n",
    "\n",
    "        # Guardar el costo y los parametros de la iteración\n",
    "        J_hist.append(costo)\n",
    "        wb_hist.append([w,b])\n",
    "\n",
    "        # Imprime el costo cada 1000 iteraciones\n",
    "        if i% math.ceil(max_iterations/10) == 0:\n",
    "            print(f\"Iteración {i:4}: Cost {J_hist[-1]:0.2e} \", f\"w: {w: 0.3e}, b:{b: 0.5e}\")\n",
    "\n",
    "    # retorna w, b y los arreglos con los costos y parametros de cada iteración\n",
    "    return w, b, J_hist, wb_hist"
   ]
  },
  {
   "cell_type": "code",
   "execution_count": 7,
   "id": "a26db331",
   "metadata": {
    "colab": {
     "base_uri": "https://localhost:8080/"
    },
    "id": "a26db331",
    "outputId": "632fbafd-4f66-4c0c-beee-74ca763ec0d6"
   },
   "outputs": [
    {
     "name": "stdout",
     "output_type": "stream",
     "text": [
      "Iteración    0: Cost 2.17e+01  w:  1.122e-02, b: 5.89657e-04\n",
      "Iteración 1000: Cost 4.92e-01  w:  3.994e-01, b: 2.62848e-02\n",
      "Iteración 2000: Cost 4.92e-01  w:  3.992e-01, b: 3.16323e-02\n",
      "Iteración 3000: Cost 4.92e-01  w:  3.989e-01, b: 3.68519e-02\n",
      "Iteración 4000: Cost 4.92e-01  w:  3.986e-01, b: 4.19464e-02\n",
      "Iteración 5000: Cost 4.91e-01  w:  3.984e-01, b: 4.69190e-02\n",
      "Iteración 6000: Cost 4.91e-01  w:  3.981e-01, b: 5.17725e-02\n",
      "Iteración 7000: Cost 4.91e-01  w:  3.979e-01, b: 5.65098e-02\n",
      "Iteración 8000: Cost 4.91e-01  w:  3.976e-01, b: 6.11337e-02\n",
      "Iteración 9000: Cost 4.91e-01  w:  3.974e-01, b: 6.56468e-02\n",
      "(w,b) found by gradient descent: (  0.3972,  0.0700)\n"
     ]
    }
   ],
   "source": [
    "# initialize parameters\n",
    "max_iterations = 10000\n",
    "alpha = 1.0e-4\n",
    "\n",
    "# run gradient descent\n",
    "w_final, b_final, J_hist, wb_hist = gradiente_descendiente(x_train ,y_train, max_iterations, alpha)\n",
    "print(f\"(w,b) found by gradient descent: ({w_final:8.4f},{b_final:8.4f})\")"
   ]
  },
  {
   "cell_type": "markdown",
   "id": "7eaad452",
   "metadata": {
    "id": "7eaad452"
   },
   "source": [
    "Veamos el gráfico con historico del costo por iteración"
   ]
  },
  {
   "cell_type": "code",
   "execution_count": 8,
   "id": "44fb8e7c",
   "metadata": {
    "colab": {
     "base_uri": "https://localhost:8080/",
     "height": 472
    },
    "id": "44fb8e7c",
    "outputId": "d378396b-f189-429f-e1fa-dc1e26550eab"
   },
   "outputs": [
    {
     "data": {
      "image/png": "[encoded data removed]",
      "text/plain": [
       "<Figure size 640x480 with 1 Axes>"
      ]
     },
     "metadata": {},
     "output_type": "display_data"
    }
   ],
   "source": [
    "plt.plot(J_hist[:500])\n",
    "\n",
    "plt.title(\"Costo por iteración\")\n",
    "plt.ylabel('Costo')\n",
    "plt.xlabel('#iteración')\n",
    "\n",
    "plt.show()"
   ]
  },
  {
   "cell_type": "markdown",
   "id": "c4442a25",
   "metadata": {
    "id": "c4442a25"
   },
   "source": [
    "Finalmente, observemos gráficamente como quedaría el modelo sobre los datos"
   ]
  },
  {
   "cell_type": "code",
   "execution_count": 9,
   "id": "f599c2ff",
   "metadata": {
    "colab": {
     "base_uri": "https://localhost:8080/",
     "height": 445
    },
    "id": "f599c2ff",
    "outputId": "3b38c151-e8a7-440b-b1de-9c73ae424184"
   },
   "outputs": [
    {
     "data": {
      "image/png": "[encoded data removed]",
      "text/plain": [
       "<Figure size 800x500 with 1 Axes>"
      ]
     },
     "metadata": {},
     "output_type": "display_data"
    }
   ],
   "source": [
    "# Graficamos el dataset\n",
    "plt.figure(figsize=(8,5))\n",
    "plt.scatter(x_train,y_train)\n",
    "\n",
    "# Definimos el modelo con los parametros encontrados\n",
    "y_hat = w_final * x_train + b_final\n",
    "\n",
    "# Graficamos el modelo con una recta roja\n",
    "plt.plot(x_train, y_hat, color='r')\n",
    "plt.show()"
   ]
  },
  {
   "cell_type": "markdown",
   "id": "df77c95e",
   "metadata": {
    "id": "df77c95e"
   },
   "source": [
    "## Regresión Lineal con Scikit_learn\n",
    "\n",
    "Ahora que desarrollamos nuestras propias funciones de regresión lineal veamos como podemos implementarlo usando la librería scikit-learn.\n",
    "\n",
    "Comenzamos importando de la librería scikit-learn el paquete linear_model que contiene las funciones para hacer Regresion lineal"
   ]
  },
  {
   "cell_type": "code",
   "execution_count": 10,
   "id": "2e42877b",
   "metadata": {
    "id": "2e42877b"
   },
   "outputs": [],
   "source": [
    "from sklearn import linear_model"
   ]
  },
  {
   "cell_type": "markdown",
   "id": "41e6966d",
   "metadata": {
    "id": "41e6966d"
   },
   "source": [
    "El dataset que creamos anteriormente lo habiamos aplanado usando el método .flatten() para obtener un arreglo en vez de una matriz, para simplificar el manejo de los datos.\n",
    "\n",
    "El modelo de regresion lineal de scikit-learn acepta solamente matrices para poder hacer regresion lineal para multiples features.\n",
    "\n",
    "En nuestro ejemplo solo tenemos un unico feature y por ello con un arreglo era suficiente, pero para usar la librería debemos transformarlo en una matriz nuevamente. Para ello usamos el método .reshape()."
   ]
  },
  {
   "cell_type": "code",
   "execution_count": 11,
   "id": "1fbd8524",
   "metadata": {
    "colab": {
     "base_uri": "https://localhost:8080/"
    },
    "id": "1fbd8524",
    "outputId": "4d75f5e0-c177-459e-f1d9-c31e131093cf"
   },
   "outputs": [
    {
     "data": {
      "text/plain": [
       "(100, 1)"
      ]
     },
     "execution_count": 11,
     "metadata": {},
     "output_type": "execute_result"
    }
   ],
   "source": [
    "x_train = x_train.reshape(-1, 1)\n",
    "x_train.shape"
   ]
  },
  {
   "cell_type": "markdown",
   "id": "37656dc0",
   "metadata": {
    "id": "37656dc0"
   },
   "source": [
    "Ahora creamos el modelo de regresion lineal usando el metodo LinearRegression()"
   ]
  },
  {
   "cell_type": "code",
   "execution_count": 12,
   "id": "f42c63c3",
   "metadata": {
    "id": "f42c63c3"
   },
   "outputs": [],
   "source": [
    "regr = linear_model.LinearRegression()"
   ]
  },
  {
   "cell_type": "markdown",
   "id": "97ae602e",
   "metadata": {
    "id": "97ae602e"
   },
   "source": [
    "Con el método .fit(x,y) lo que hacemos es ajustar el modelo a los datos."
   ]
  },
  {
   "cell_type": "code",
   "execution_count": 13,
   "id": "100650df",
   "metadata": {
    "colab": {
     "base_uri": "https://localhost:8080/",
     "height": 74
    },
    "id": "100650df",
    "outputId": "8c3b8ef2-c963-4ec2-fb8e-14f6115d1222"
   },
   "outputs": [
    {
     "data": {
      "text/html": [
       "<style>#sk-container-id-1 {\n",
       "  /* Definition of color scheme common for light and dark mode */\n",
       "  --sklearn-color-text: black;\n",
       "  --sklearn-color-line: gray;\n",
       "  /* Definition of color scheme for unfitted estimators */\n",
       "  --sklearn-color-unfitted-level-0: #fff5e6;\n",
       "  --sklearn-color-unfitted-level-1: #f6e4d2;\n",
       "  --sklearn-color-unfitted-level-2: #ffe0b3;\n",
       "  --sklearn-color-unfitted-level-3: chocolate;\n",
       "  /* Definition of color scheme for fitted estimators */\n",
       "  --sklearn-color-fitted-level-0: #f0f8ff;\n",
       "  --sklearn-color-fitted-level-1: #d4ebff;\n",
       "  --sklearn-color-fitted-level-2: #b3dbfd;\n",
       "  --sklearn-color-fitted-level-3: cornflowerblue;\n",
       "\n",
       "  /* Specific color for light theme */\n",
       "  --sklearn-color-text-on-default-background: var(--sg-text-color, var(--theme-code-foreground, var(--jp-content-font-color1, black)));\n",
       "  --sklearn-color-background: var(--sg-background-color, var(--theme-background, var(--jp-layout-color0, white)));\n",
       "  --sklearn-color-border-box: var(--sg-text-color, var(--theme-code-foreground, var(--jp-content-font-color1, black)));\n",
       "  --sklearn-color-icon: #696969;\n",
       "\n",
       "  @media (prefers-color-scheme: dark) {\n",
       "    /* Redefinition of color scheme for dark theme */\n",
       "    --sklearn-color-text-on-default-background: var(--sg-text-color, var(--theme-code-foreground, var(--jp-content-font-color1, white)));\n",
       "    --sklearn-color-background: var(--sg-background-color, var(--theme-background, var(--jp-layout-color0, #111)));\n",
       "    --sklearn-color-border-box: var(--sg-text-color, var(--theme-code-foreground, var(--jp-content-font-color1, white)));\n",
       "    --sklearn-color-icon: #878787;\n",
       "  }\n",
       "}\n",
       "\n",
       "#sk-container-id-1 {\n",
       "  color: var(--sklearn-color-text);\n",
       "}\n",
       "\n",
       "#sk-container-id-1 pre {\n",
       "  padding: 0;\n",
       "}\n",
       "\n",
       "#sk-container-id-1 input.sk-hidden--visually {\n",
       "  border: 0;\n",
       "  clip: rect(1px 1px 1px 1px);\n",
       "  clip: rect(1px, 1px, 1px, 1px);\n",
       "  height: 1px;\n",
       "  margin: -1px;\n",
       "  overflow: hidden;\n",
       "  padding: 0;\n",
       "  position: absolute;\n",
       "  width: 1px;\n",
       "}\n",
       "\n",
       "#sk-container-id-1 div.sk-dashed-wrapped {\n",
       "  border: 1px dashed var(--sklearn-color-line);\n",
       "  margin: 0 0.4em 0.5em 0.4em;\n",
       "  box-sizing: border-box;\n",
       "  padding-bottom: 0.4em;\n",
       "  background-color: var(--sklearn-color-background);\n",
       "}\n",
       "\n",
       "#sk-container-id-1 div.sk-container {\n",
       "  /* jupyter's `normalize.less` sets `[hidden] { display: none; }`\n",
       "     but bootstrap.min.css set `[hidden] { display: none !important; }`\n",
       "     so we also need the `!important` here to be able to override the\n",
       "     default hidden behavior on the sphinx rendered scikit-learn.org.\n",
       "     See: https://github.com/scikit-learn/scikit-learn/issues/21755 */\n",
       "  display: inline-block !important;\n",
       "  position: relative;\n",
       "}\n",
       "\n",
       "#sk-container-id-1 div.sk-text-repr-fallback {\n",
       "  display: none;\n",
       "}\n",
       "\n",
       "div.sk-parallel-item,\n",
       "div.sk-serial,\n",
       "div.sk-item {\n",
       "  /* draw centered vertical line to link estimators */\n",
       "  background-image: linear-gradient(var(--sklearn-color-text-on-default-background), var(--sklearn-color-text-on-default-background));\n",
       "  background-size: 2px 100%;\n",
       "  background-repeat: no-repeat;\n",
       "  background-position: center center;\n",
       "}\n",
       "\n",
       "/* Parallel-specific style estimator block */\n",
       "\n",
       "#sk-container-id-1 div.sk-parallel-item::after {\n",
       "  content: \"\";\n",
       "  width: 100%;\n",
       "  border-bottom: 2px solid var(--sklearn-color-text-on-default-background);\n",
       "  flex-grow: 1;\n",
       "}\n",
       "\n",
       "#sk-container-id-1 div.sk-parallel {\n",
       "  display: flex;\n",
       "  align-items: stretch;\n",
       "  justify-content: center;\n",
       "  background-color: var(--sklearn-color-background);\n",
       "  position: relative;\n",
       "}\n",
       "\n",
       "#sk-container-id-1 div.sk-parallel-item {\n",
       "  display: flex;\n",
       "  flex-direction: column;\n",
       "}\n",
       "\n",
       "#sk-container-id-1 div.sk-parallel-item:first-child::after {\n",
       "  align-self: flex-end;\n",
       "  width: 50%;\n",
       "}\n",
       "\n",
       "#sk-container-id-1 div.sk-parallel-item:last-child::after {\n",
       "  align-self: flex-start;\n",
       "  width: 50%;\n",
       "}\n",
       "\n",
       "#sk-container-id-1 div.sk-parallel-item:only-child::after {\n",
       "  width: 0;\n",
       "}\n",
       "\n",
       "/* Serial-specific style estimator block */\n",
       "\n",
       "#sk-container-id-1 div.sk-serial {\n",
       "  display: flex;\n",
       "  flex-direction: column;\n",
       "  align-items: center;\n",
       "  background-color: var(--sklearn-color-background);\n",
       "  padding-right: 1em;\n",
       "  padding-left: 1em;\n",
       "}\n",
       "\n",
       "\n",
       "/* Toggleable style: style used for estimator/Pipeline/ColumnTransformer box that is\n",
       "clickable and can be expanded/collapsed.\n",
       "- Pipeline and ColumnTransformer use this feature and define the default style\n",
       "- Estimators will overwrite some part of the style using the `sk-estimator` class\n",
       "*/\n",
       "\n",
       "/* Pipeline and ColumnTransformer style (default) */\n",
       "\n",
       "#sk-container-id-1 div.sk-toggleable {\n",
       "  /* Default theme specific background. It is overwritten whether we have a\n",
       "  specific estimator or a Pipeline/ColumnTransformer */\n",
       "  background-color: var(--sklearn-color-background);\n",
       "}\n",
       "\n",
       "/* Toggleable label */\n",
       "#sk-container-id-1 label.sk-toggleable__label {\n",
       "  cursor: pointer;\n",
       "  display: block;\n",
       "  width: 100%;\n",
       "  margin-bottom: 0;\n",
       "  padding: 0.5em;\n",
       "  box-sizing: border-box;\n",
       "  text-align: center;\n",
       "}\n",
       "\n",
       "#sk-container-id-1 label.sk-toggleable__label-arrow:before {\n",
       "  /* Arrow on the left of the label */\n",
       "  content: \"▸\";\n",
       "  float: left;\n",
       "  margin-right: 0.25em;\n",
       "  color: var(--sklearn-color-icon);\n",
       "}\n",
       "\n",
       "#sk-container-id-1 label.sk-toggleable__label-arrow:hover:before {\n",
       "  color: var(--sklearn-color-text);\n",
       "}\n",
       "\n",
       "/* Toggleable content - dropdown */\n",
       "\n",
       "#sk-container-id-1 div.sk-toggleable__content {\n",
       "  max-height: 0;\n",
       "  max-width: 0;\n",
       "  overflow: hidden;\n",
       "  text-align: left;\n",
       "  /* unfitted */\n",
       "  background-color: var(--sklearn-color-unfitted-level-0);\n",
       "}\n",
       "\n",
       "#sk-container-id-1 div.sk-toggleable__content.fitted {\n",
       "  /* fitted */\n",
       "  background-color: var(--sklearn-color-fitted-level-0);\n",
       "}\n",
       "\n",
       "#sk-container-id-1 div.sk-toggleable__content pre {\n",
       "  margin: 0.2em;\n",
       "  border-radius: 0.25em;\n",
       "  color: var(--sklearn-color-text);\n",
       "  /* unfitted */\n",
       "  background-color: var(--sklearn-color-unfitted-level-0);\n",
       "}\n",
       "\n",
       "#sk-container-id-1 div.sk-toggleable__content.fitted pre {\n",
       "  /* unfitted */\n",
       "  background-color: var(--sklearn-color-fitted-level-0);\n",
       "}\n",
       "\n",
       "#sk-container-id-1 input.sk-toggleable__control:checked~div.sk-toggleable__content {\n",
       "  /* Expand drop-down */\n",
       "  max-height: 200px;\n",
       "  max-width: 100%;\n",
       "  overflow: auto;\n",
       "}\n",
       "\n",
       "#sk-container-id-1 input.sk-toggleable__control:checked~label.sk-toggleable__label-arrow:before {\n",
       "  content: \"▾\";\n",
       "}\n",
       "\n",
       "/* Pipeline/ColumnTransformer-specific style */\n",
       "\n",
       "#sk-container-id-1 div.sk-label input.sk-toggleable__control:checked~label.sk-toggleable__label {\n",
       "  color: var(--sklearn-color-text);\n",
       "  background-color: var(--sklearn-color-unfitted-level-2);\n",
       "}\n",
       "\n",
       "#sk-container-id-1 div.sk-label.fitted input.sk-toggleable__control:checked~label.sk-toggleable__label {\n",
       "  background-color: var(--sklearn-color-fitted-level-2);\n",
       "}\n",
       "\n",
       "/* Estimator-specific style */\n",
       "\n",
       "/* Colorize estimator box */\n",
       "#sk-container-id-1 div.sk-estimator input.sk-toggleable__control:checked~label.sk-toggleable__label {\n",
       "  /* unfitted */\n",
       "  background-color: var(--sklearn-color-unfitted-level-2);\n",
       "}\n",
       "\n",
       "#sk-container-id-1 div.sk-estimator.fitted input.sk-toggleable__control:checked~label.sk-toggleable__label {\n",
       "  /* fitted */\n",
       "  background-color: var(--sklearn-color-fitted-level-2);\n",
       "}\n",
       "\n",
       "#sk-container-id-1 div.sk-label label.sk-toggleable__label,\n",
       "#sk-container-id-1 div.sk-label label {\n",
       "  /* The background is the default theme color */\n",
       "  color: var(--sklearn-color-text-on-default-background);\n",
       "}\n",
       "\n",
       "/* On hover, darken the color of the background */\n",
       "#sk-container-id-1 div.sk-label:hover label.sk-toggleable__label {\n",
       "  color: var(--sklearn-color-text);\n",
       "  background-color: var(--sklearn-color-unfitted-level-2);\n",
       "}\n",
       "\n",
       "/* Label box, darken color on hover, fitted */\n",
       "#sk-container-id-1 div.sk-label.fitted:hover label.sk-toggleable__label.fitted {\n",
       "  color: var(--sklearn-color-text);\n",
       "  background-color: var(--sklearn-color-fitted-level-2);\n",
       "}\n",
       "\n",
       "/* Estimator label */\n",
       "\n",
       "#sk-container-id-1 div.sk-label label {\n",
       "  font-family: monospace;\n",
       "  font-weight: bold;\n",
       "  display: inline-block;\n",
       "  line-height: 1.2em;\n",
       "}\n",
       "\n",
       "#sk-container-id-1 div.sk-label-container {\n",
       "  text-align: center;\n",
       "}\n",
       "\n",
       "/* Estimator-specific */\n",
       "#sk-container-id-1 div.sk-estimator {\n",
       "  font-family: monospace;\n",
       "  border: 1px dotted var(--sklearn-color-border-box);\n",
       "  border-radius: 0.25em;\n",
       "  box-sizing: border-box;\n",
       "  margin-bottom: 0.5em;\n",
       "  /* unfitted */\n",
       "  background-color: var(--sklearn-color-unfitted-level-0);\n",
       "}\n",
       "\n",
       "#sk-container-id-1 div.sk-estimator.fitted {\n",
       "  /* fitted */\n",
       "  background-color: var(--sklearn-color-fitted-level-0);\n",
       "}\n",
       "\n",
       "/* on hover */\n",
       "#sk-container-id-1 div.sk-estimator:hover {\n",
       "  /* unfitted */\n",
       "  background-color: var(--sklearn-color-unfitted-level-2);\n",
       "}\n",
       "\n",
       "#sk-container-id-1 div.sk-estimator.fitted:hover {\n",
       "  /* fitted */\n",
       "  background-color: var(--sklearn-color-fitted-level-2);\n",
       "}\n",
       "\n",
       "/* Specification for estimator info (e.g. \"i\" and \"?\") */\n",
       "\n",
       "/* Common style for \"i\" and \"?\" */\n",
       "\n",
       ".sk-estimator-doc-link,\n",
       "a:link.sk-estimator-doc-link,\n",
       "a:visited.sk-estimator-doc-link {\n",
       "  float: right;\n",
       "  font-size: smaller;\n",
       "  line-height: 1em;\n",
       "  font-family: monospace;\n",
       "  background-color: var(--sklearn-color-background);\n",
       "  border-radius: 1em;\n",
       "  height: 1em;\n",
       "  width: 1em;\n",
       "  text-decoration: none !important;\n",
       "  margin-left: 1ex;\n",
       "  /* unfitted */\n",
       "  border: var(--sklearn-color-unfitted-level-1) 1pt solid;\n",
       "  color: var(--sklearn-color-unfitted-level-1);\n",
       "}\n",
       "\n",
       ".sk-estimator-doc-link.fitted,\n",
       "a:link.sk-estimator-doc-link.fitted,\n",
       "a:visited.sk-estimator-doc-link.fitted {\n",
       "  /* fitted */\n",
       "  border: var(--sklearn-color-fitted-level-1) 1pt solid;\n",
       "  color: var(--sklearn-color-fitted-level-1);\n",
       "}\n",
       "\n",
       "/* On hover */\n",
       "div.sk-estimator:hover .sk-estimator-doc-link:hover,\n",
       ".sk-estimator-doc-link:hover,\n",
       "div.sk-label-container:hover .sk-estimator-doc-link:hover,\n",
       ".sk-estimator-doc-link:hover {\n",
       "  /* unfitted */\n",
       "  background-color: var(--sklearn-color-unfitted-level-3);\n",
       "  color: var(--sklearn-color-background);\n",
       "  text-decoration: none;\n",
       "}\n",
       "\n",
       "div.sk-estimator.fitted:hover .sk-estimator-doc-link.fitted:hover,\n",
       ".sk-estimator-doc-link.fitted:hover,\n",
       "div.sk-label-container:hover .sk-estimator-doc-link.fitted:hover,\n",
       ".sk-estimator-doc-link.fitted:hover {\n",
       "  /* fitted */\n",
       "  background-color: var(--sklearn-color-fitted-level-3);\n",
       "  color: var(--sklearn-color-background);\n",
       "  text-decoration: none;\n",
       "}\n",
       "\n",
       "/* Span, style for the box shown on hovering the info icon */\n",
       ".sk-estimator-doc-link span {\n",
       "  display: none;\n",
       "  z-index: 9999;\n",
       "  position: relative;\n",
       "  font-weight: normal;\n",
       "  right: .2ex;\n",
       "  padding: .5ex;\n",
       "  margin: .5ex;\n",
       "  width: min-content;\n",
       "  min-width: 20ex;\n",
       "  max-width: 50ex;\n",
       "  color: var(--sklearn-color-text);\n",
       "  box-shadow: 2pt 2pt 4pt #999;\n",
       "  /* unfitted */\n",
       "  background: var(--sklearn-color-unfitted-level-0);\n",
       "  border: .5pt solid var(--sklearn-color-unfitted-level-3);\n",
       "}\n",
       "\n",
       ".sk-estimator-doc-link.fitted span {\n",
       "  /* fitted */\n",
       "  background: var(--sklearn-color-fitted-level-0);\n",
       "  border: var(--sklearn-color-fitted-level-3);\n",
       "}\n",
       "\n",
       ".sk-estimator-doc-link:hover span {\n",
       "  display: block;\n",
       "}\n",
       "\n",
       "/* \"?\"-specific style due to the `<a>` HTML tag */\n",
       "\n",
       "#sk-container-id-1 a.estimator_doc_link {\n",
       "  float: right;\n",
       "  font-size: 1rem;\n",
       "  line-height: 1em;\n",
       "  font-family: monospace;\n",
       "  background-color: var(--sklearn-color-background);\n",
       "  border-radius: 1rem;\n",
       "  height: 1rem;\n",
       "  width: 1rem;\n",
       "  text-decoration: none;\n",
       "  /* unfitted */\n",
       "  color: var(--sklearn-color-unfitted-level-1);\n",
       "  border: var(--sklearn-color-unfitted-level-1) 1pt solid;\n",
       "}\n",
       "\n",
       "#sk-container-id-1 a.estimator_doc_link.fitted {\n",
       "  /* fitted */\n",
       "  border: var(--sklearn-color-fitted-level-1) 1pt solid;\n",
       "  color: var(--sklearn-color-fitted-level-1);\n",
       "}\n",
       "\n",
       "/* On hover */\n",
       "#sk-container-id-1 a.estimator_doc_link:hover {\n",
       "  /* unfitted */\n",
       "  background-color: var(--sklearn-color-unfitted-level-3);\n",
       "  color: var(--sklearn-color-background);\n",
       "  text-decoration: none;\n",
       "}\n",
       "\n",
       "#sk-container-id-1 a.estimator_doc_link.fitted:hover {\n",
       "  /* fitted */\n",
       "  background-color: var(--sklearn-color-fitted-level-3);\n",
       "}\n",
       "</style><div id=\"sk-container-id-1\" class=\"sk-top-container\"><div class=\"sk-text-repr-fallback\"><pre>LinearRegression()</pre><b>In a Jupyter environment, please rerun this cell to show the HTML representation or trust the notebook. <br />On GitHub, the HTML representation is unable to render, please try loading this page with nbviewer.org.</b></div><div class=\"sk-container\" hidden><div class=\"sk-item\"><div class=\"sk-estimator fitted sk-toggleable\"><input class=\"sk-toggleable__control sk-hidden--visually\" id=\"sk-estimator-id-1\" type=\"checkbox\" checked><label for=\"sk-estimator-id-1\" class=\"sk-toggleable__label fitted sk-toggleable__label-arrow fitted\">&nbsp;&nbsp;LinearRegression<a class=\"sk-estimator-doc-link fitted\" rel=\"noreferrer\" target=\"_blank\" href=\"https://scikit-learn.org/1.5/modules/generated/sklearn.linear_model.LinearRegression.html\">?<span>Documentation for LinearRegression</span></a><span class=\"sk-estimator-doc-link fitted\">i<span>Fitted</span></span></label><div class=\"sk-toggleable__content fitted\"><pre>LinearRegression()</pre></div> </div></div></div></div>"
      ],
      "text/plain": [
       "LinearRegression()"
      ]
     },
     "execution_count": 13,
     "metadata": {},
     "output_type": "execute_result"
    }
   ],
   "source": [
    "regr.fit(x_train, y_train)"
   ]
  },
  {
   "cell_type": "markdown",
   "id": "9a015cec",
   "metadata": {
    "id": "9a015cec"
   },
   "source": [
    "Ahora que tenemos el modelo podemos ver los parametros w y b"
   ]
  },
  {
   "cell_type": "code",
   "execution_count": 14,
   "id": "eda30b1c",
   "metadata": {
    "colab": {
     "base_uri": "https://localhost:8080/"
    },
    "id": "eda30b1c",
    "outputId": "47d30530-b644-42cf-cb5c-6e77de9e913a"
   },
   "outputs": [
    {
     "name": "stdout",
     "output_type": "stream",
     "text": [
      "Parametros: \n",
      " [0.38782674]\n"
     ]
    }
   ],
   "source": [
    "# The coefficients\n",
    "print(\"Parametros: \\n\", regr.coef_)"
   ]
  },
  {
   "cell_type": "markdown",
   "id": "c61971f4",
   "metadata": {
    "id": "c61971f4"
   },
   "source": [
    "En este caso, solo w (b=0)\n",
    "\n",
    "Ahora, resta obtener los valores estimados: $\\hat{y}$ para poder graficar el modelo"
   ]
  },
  {
   "cell_type": "code",
   "execution_count": 15,
   "id": "baabfc29",
   "metadata": {
    "colab": {
     "base_uri": "https://localhost:8080/",
     "height": 430
    },
    "id": "baabfc29",
    "outputId": "6a82b4da-a265-4f97-c58f-8224a1f22dd5"
   },
   "outputs": [
    {
     "data": {
      "image/png": "[encoded data removed]",
      "text/plain": [
       "<Figure size 640x480 with 1 Axes>"
      ]
     },
     "metadata": {},
     "output_type": "display_data"
    }
   ],
   "source": [
    "y_pred = regr.predict(x_train)\n",
    "\n",
    "# Graficamos el modelo con una recta roja sobre el grafico de dispersión del dataset generado\n",
    "plt.scatter(x_train, y_train)\n",
    "plt.plot(x_train, y_pred,color='r')\n",
    "\n",
    "plt.show()"
   ]
  },
  {
   "cell_type": "markdown",
   "id": "23fc2d78",
   "metadata": {
    "id": "23fc2d78"
   },
   "source": [
    "Vemos que con una pocas líneas de código usando la librería scikit-learn obtenemos un modelo muy similar al conseguido habiendo desarrollado todas las funciones necesarias para desarrollar regresion lineal.\n"
   ]
  },
  {
   "cell_type": "code",
   "execution_count": 33,
   "id": "e7092c67",
   "metadata": {
    "id": "e7092c67"
   },
   "outputs": [],
   "source": []
  }
 ],
 "metadata": {
  "colab": {
   "provenance": []
  },
  "kernelspec": {
   "display_name": "Python 3 (ipykernel)",
   "language": "python",
   "name": "python3"
  },
  "language_info": {
   "codemirror_mode": {
    "name": "ipython",
    "version": 3
   },
   "file_extension": ".py",
   "mimetype": "text/x-python",
   "name": "python",
   "nbconvert_exporter": "python",
   "pygments_lexer": "ipython3",
   "version": "3.12.2"
  }
 },
 "nbformat": 4,
 "nbformat_minor": 5
}
