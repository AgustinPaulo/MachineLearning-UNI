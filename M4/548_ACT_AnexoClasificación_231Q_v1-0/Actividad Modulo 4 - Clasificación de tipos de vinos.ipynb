{
 "cells": [
  {
   "cell_type": "markdown",
   "id": "2a2efd43",
   "metadata": {},
   "source": [
    "## Wine Dataset\n",
    "\n",
    "El wine dataset consta de 13 parámetros diferentes del vino, como el contenido de alcohol, medidos en 178 muestras de vino. Estos vinos se cultivaron en la misma región de Italia pero se derivaron de tres cultivares diferentes; por lo tanto, hay tres clases diferentes de vino.\n",
    "\n",
    "El objetivo es encontrar un modelo que pueda predecir la clase del vino dados los 13 parámetros observados y crear varios modelos de clasificación (Regresión Logistica y K-NN) y evaluar la precisión de cada uno de ellos.\n",
    "\n",
    "Los features del dataset son:\n",
    "\n",
    "    1) Alcohol\n",
    "    2) Malic acid\n",
    "    3) Ash\n",
    "    4) Alcalinity of ash\n",
    "    5) Magnesium\n",
    "    6) Total phenols\n",
    "    7) Flavanoids\n",
    "    8) Nonflavanoid phenols\n",
    "    9) Proanthocyanins\n",
    "    10) Color intensity\n",
    "    11) Hue\n",
    "    12) OD280/OD315 of diluted wines\n",
    "    13) Proline       \n",
    "    \n",
    "El label esta representado por los valores 1, 2 y 3 para identificar cada tipo de vino.\n"
   ]
  },
  {
   "cell_type": "markdown",
   "id": "1f32592b",
   "metadata": {},
   "source": [
    "### Ejercicio 1\n",
    "a) Escribir en Python un programa para dividir el dataset del archivo wine.csv almacenando los features en una variable llamada **X**  y los labels en una variable llamada **y**.\n",
    "\n",
    "b) Imprimir los 5 primeros ejemplos (filas) de X\n",
    "\n",
    "c) Imprimir la cantidad de ejemplos por cada clase\n",
    "\n",
    "**Ayuda:**\n",
    "- pandas.read_csv(file) crea un DataFrame a partir de un archivo .csv\n",
    "- Dataframe.iloc[] permite filtrar columnas\n",
    "- DataFrame.head() permite imprimir las primeras filas del DataFrame\n",
    "- Series.value_counts() cuenta la cantidad de ocurrencias por cada valor en la serie (columna)"
   ]
  },
  {
   "cell_type": "code",
   "execution_count": 2,
   "id": "857c39ab",
   "metadata": {},
   "outputs": [],
   "source": [
    "# <<Escriba el codigo aqui>>"
   ]
  },
  {
   "cell_type": "code",
   "execution_count": 3,
   "id": "5df66a2a",
   "metadata": {},
   "outputs": [],
   "source": [
    "# <<Escriba el codigo aqui>>"
   ]
  },
  {
   "cell_type": "code",
   "execution_count": 4,
   "id": "0c153399",
   "metadata": {},
   "outputs": [],
   "source": [
    "# <<Escriba el codigo aqui>>"
   ]
  },
  {
   "cell_type": "markdown",
   "id": "f4ea2e63",
   "metadata": {},
   "source": [
    "### Ejercicio 2\n",
    "a) Utilizar la librería Scikit-learn para dividir el dataset de vinos en un 70 % de datos de entrenamiento y un 30 % de datos de testeo. Del total de 178 registros, el conjunto de entrenamiento contendrá 124 registros y el conjunto de prueba contiene 54 de esos registros. Las variables X_train, y_train deberan contener los features y los labels del dataset de entrenamiento y X_test, y_test deberan contener los features y los labels del dataset de testeo.\n",
    "\n",
    "b) Imprima el tamaño de cada dataset resultante (**X** e **y** para entrenamiento y para testeo).\n",
    "\n",
    "**Ayuda:**\n",
    "- Se puede utilizar el método train_test_split de Scikit-Learn \n",
    "- DataFrame.shape permite conocer el tamaño del Dataframe (Filas, Columnas)\n"
   ]
  },
  {
   "cell_type": "code",
   "execution_count": 56,
   "id": "7965bcad",
   "metadata": {},
   "outputs": [],
   "source": [
    "# <<Escriba el codigo aqui>>"
   ]
  },
  {
   "cell_type": "markdown",
   "id": "081e4de1",
   "metadata": {},
   "source": [
    "### Ejercicio 3\n",
    "Escriba un programa Python para ver algunos detalles estadísticos básicos como cantidades, percentiles, media, desviación estándar, etc. de los tipos de vino (1, 2 y 3) solamente de los siguientes features: 'Alcohol', 'Phenols', 'Color.int'\n",
    "\n",
    "**Ayuda:**\n",
    "- En Pandas se utilizan filtros para seleccionar ejemplos especificos. Por ejemplo, para obtener todas los ejemplos (filas) correspondientes al vino \"Tipo 1\" se puede hacer **X[y == 1]**, esto crea un DataFrame nuevo con los ejemplos de **X** que en el DataFrame y tengan el label 1.\n",
    "- Si ademas se quieren filtrar columnas se pueden listar por su nombre. Por ejemplo **X[['Alcohol', 'Phenols']]** devuelve un DataFrame solo con las columnas 'Alcohol' y 'Phenols'.\n",
    "- DataFrame.describe() se utiliza para obtener estadisticas de un DataFrame como media, std, etc."
   ]
  },
  {
   "cell_type": "code",
   "execution_count": 5,
   "id": "3f165169",
   "metadata": {},
   "outputs": [],
   "source": [
    "# <<Escriba el codigo aqui>>"
   ]
  },
  {
   "cell_type": "markdown",
   "id": "1fe28e47",
   "metadata": {},
   "source": [
    "### Ejercicio 4\n",
    "Escriba un programa en Python para crear un diagrama de dispersión de forma que en el eje x se encuentre el feature \"Alcohol\", en el eje y el feature \"Color.int\" y que los puntos de dispersión presenten colores diferentes que distingan las tres clases de vinos.\n",
    "\n",
    "**Ayuda:**\n",
    "- En matplotlib se puede utilizar el método .scatter para crear un grafico de dispersión. Los valores del eje x y del eje y se pasan por parametro, como así también este método acepta un parametro, llamado **c**, el cual puede ser un arreglo numerico que define los colores de los puntos de dispersión (la variable y, anteriormente creada, es un arreglo de numeros -1, 2 y 3- que puede utilizarse para definir el parametro **c**)\n",
    "\n"
   ]
  },
  {
   "cell_type": "code",
   "execution_count": 6,
   "id": "6a97973e",
   "metadata": {},
   "outputs": [],
   "source": [
    "# <<Escriba el codigo aqui>>"
   ]
  },
  {
   "cell_type": "markdown",
   "id": "5950fdca",
   "metadata": {},
   "source": [
    "## Regresión Logística\n",
    "A continuación, vamos a entrenar un modelo de Regresión Logística considerando unicamente los features \"Alcohol\" y \"Color.int\" para poder observar gráficamente el limite de decisión creado automaticamente por el modelo entrenado con Scikit-Learn.\n",
    "\n",
    "**Atención!** Para que estas lineas de codigo puedan ejecutarse es necesario contar con las variables X_train, y_train, X_test e y_train correctamente seteadas en el ejercicio previo."
   ]
  },
  {
   "cell_type": "code",
   "execution_count": 7,
   "id": "452b8667",
   "metadata": {},
   "outputs": [],
   "source": [
    "# Importamos el modulo DecisionBoundaryDisplay que nos serviá para visualizar el limite de decisión en el grafico de dispersión\n",
    "from sklearn.inspection import DecisionBoundaryDisplay\n",
    "\n",
    "from sklearn.linear_model import LogisticRegression \n",
    "\n",
    "\n",
    "\n",
    "#Creamos un método que grafique el limite de decisión en el grafico de dispersión\n",
    "def plot_model(X_plot, y, model, ax):\n",
    "    \n",
    "    disp = DecisionBoundaryDisplay.from_estimator(\n",
    "        model,\n",
    "        X_plot,\n",
    "        response_method=\"predict\",\n",
    "        alpha=0.5,\n",
    "        ax=ax,\n",
    "    )\n",
    "    \n",
    "    disp.ax_.scatter(X_plot[\"Alcohol\"], X_plot[\"Color.int\"], c=y, s=20, edgecolor=\"k\")\n",
    "    disp.ax_.set_xlim((X_plot[\"Alcohol\"].min(), X_plot[\"Alcohol\"].max()))\n",
    "    disp.ax_.set_ylim((X_plot[\"Color.int\"].min(), X_plot[\"Color.int\"].max()))\n",
    "    \n",
    "    return disp.ax_"
   ]
  },
  {
   "cell_type": "code",
   "execution_count": 9,
   "id": "b2739e2a",
   "metadata": {},
   "outputs": [
    {
     "ename": "NameError",
     "evalue": "name 'X_train' is not defined",
     "output_type": "error",
     "traceback": [
      "\u001b[0;31m---------------------------------------------------------------------------\u001b[0m",
      "\u001b[0;31mNameError\u001b[0m                                 Traceback (most recent call last)",
      "\u001b[0;32m/var/folders/8c/pywz1b1j037f3jqwfqlvm1nw0000gn/T/ipykernel_15047/3129990262.py\u001b[0m in \u001b[0;36m<module>\u001b[0;34m\u001b[0m\n\u001b[1;32m      7\u001b[0m \u001b[0;34m\u001b[0m\u001b[0m\n\u001b[1;32m      8\u001b[0m \u001b[0;31m# Entrenamos el modelo solo con los features Alcohol y Color.int\u001b[0m\u001b[0;34m\u001b[0m\u001b[0;34m\u001b[0m\u001b[0m\n\u001b[0;32m----> 9\u001b[0;31m \u001b[0mlg\u001b[0m\u001b[0;34m.\u001b[0m\u001b[0mfit\u001b[0m\u001b[0;34m(\u001b[0m\u001b[0mX_train\u001b[0m\u001b[0;34m[\u001b[0m\u001b[0;34m[\u001b[0m\u001b[0;34m\"Alcohol\"\u001b[0m\u001b[0;34m,\u001b[0m \u001b[0;34m\"Color.int\"\u001b[0m\u001b[0;34m]\u001b[0m\u001b[0;34m]\u001b[0m\u001b[0;34m,\u001b[0m \u001b[0my_train\u001b[0m\u001b[0;34m)\u001b[0m\u001b[0;34m\u001b[0m\u001b[0;34m\u001b[0m\u001b[0m\n\u001b[0m\u001b[1;32m     10\u001b[0m \u001b[0;34m\u001b[0m\u001b[0m\n\u001b[1;32m     11\u001b[0m \u001b[0;31m# Graficamos\u001b[0m\u001b[0;34m\u001b[0m\u001b[0;34m\u001b[0m\u001b[0m\n",
      "\u001b[0;31mNameError\u001b[0m: name 'X_train' is not defined"
     ]
    }
   ],
   "source": [
    "# Creamos una instancia de LogisticRegression. \n",
    "# Observar que en este caso seteamos el parametro multi_class='multinomial' para que \n",
    "# el modelo interprete que es un problema multiclase y que debe utilizarse para el \n",
    "# entrenamiento la funcion de costo conocida como Cross-Entropy.\n",
    "lg = LogisticRegression(max_iter=200, \n",
    "                        multi_class='multinomial')\n",
    "\n",
    "# Entrenamos el modelo solo con los features Alcohol y Color.int\n",
    "lg.fit(X_train[[\"Alcohol\", \"Color.int\"]], y_train)\n",
    "\n",
    "# Graficamos\n",
    "fig, (ax1) = plt.subplots(ncols=1, figsize=(6, 5))\n",
    "\n",
    "plot_model(X_train[[\"Alcohol\", \"Color.int\"]], y_train, lg, ax1)\n",
    "ax1.set_xlabel(\"Alcohol\")\n",
    "ax1.set_ylabel(\"Color.int\")\n",
    "_ = ax1.set_title(\"Logistic Regression\")"
   ]
  },
  {
   "cell_type": "markdown",
   "id": "087fa675",
   "metadata": {},
   "source": [
    "### Ejercicio 5\n",
    "\n",
    "Considerando en dataset de entrenamiento y de testeo creado anteriormente:\n",
    "1. Escriba un programa en Python para obtener y entrenar un modelo de Regresión Logística con el dataset de entrenamiento completo (para todos los features). \n",
    "2. Obtener las predicciones para todo el dataset de testeo.\n",
    "3. Evaluar el modelo con la métrica Accuracy.\n",
    "**Ayuda:**\n",
    "- Recordar los 4 pasos para entrenar un modelo: (1) Importar modulo, (2)Crear la instancia, (3) Entrenar el modelo y (4) Predecir para nuevos ejemplos.\n",
    "- Setear multi_class='multinomial' para que el modelo de regresión logistica sea multiclase\n",
    "- Para obtener la métrica de Accuracy se puede utilizar el método .accuracy_score(predictions, y_test)\n"
   ]
  },
  {
   "cell_type": "code",
   "execution_count": 10,
   "id": "b4ced3f5",
   "metadata": {},
   "outputs": [],
   "source": [
    "# <<Escriba el codigo aqui>>"
   ]
  },
  {
   "cell_type": "markdown",
   "id": "15a4e301",
   "metadata": {},
   "source": [
    "# K-NN: Vecinos más cercanos"
   ]
  },
  {
   "cell_type": "markdown",
   "id": "6018968d",
   "metadata": {},
   "source": [
    "### Ejercicio 6\n",
    "Considerando en dataset de entrenamiento y de testeo creado anteriormente:\n",
    "1. Escriba un programa en Python para obtener y entrenar un modelo de K-NN con el dataset de entrenamiento completo (para todos los features). Utilice 5 como número de vecinos.\n",
    "2. Obtener las predicciones para todo el dataset de testeo.\n",
    "3. Evaluar el modelo con la métrica Accuracy.\n",
    " "
   ]
  },
  {
   "cell_type": "code",
   "execution_count": 11,
   "id": "d241d0a1",
   "metadata": {},
   "outputs": [],
   "source": [
    "# <<Escriba el codigo aqui>>"
   ]
  },
  {
   "cell_type": "markdown",
   "id": "f92a32df",
   "metadata": {},
   "source": [
    "### Ejercicio 7\n",
    "Entrene o ajuste los datos en el modelo y, utilizando el algoritmo K vecino más cercano, calcule el rendimiento para diferentes valores de k, tome como referencia valores de k entre 1 y 30."
   ]
  },
  {
   "cell_type": "code",
   "execution_count": 12,
   "id": "a002fa91",
   "metadata": {},
   "outputs": [],
   "source": [
    "# <<Escriba el codigo aqui>>"
   ]
  }
 ],
 "metadata": {
  "kernelspec": {
   "display_name": "Python 3 (ipykernel)",
   "language": "python",
   "name": "python3"
  },
  "language_info": {
   "codemirror_mode": {
    "name": "ipython",
    "version": 3
   },
   "file_extension": ".py",
   "mimetype": "text/x-python",
   "name": "python",
   "nbconvert_exporter": "python",
   "pygments_lexer": "ipython3",
   "version": "3.9.7"
  }
 },
 "nbformat": 4,
 "nbformat_minor": 5
}
